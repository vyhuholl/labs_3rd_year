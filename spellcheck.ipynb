{
 "cells": [
  {
   "cell_type": "markdown",
   "metadata": {},
   "source": [
    "# Семинар 3. Исправление опечаток"
   ]
  },
  {
   "cell_type": "code",
   "execution_count": 1,
   "metadata": {
    "collapsed": true
   },
   "outputs": [],
   "source": [
    "import os, re\n",
    "from string import punctuation\n",
    "import numpy as np\n",
    "import json\n",
    "from collections import Counter\n",
    "from pprint import pprint\n",
    "punct = set(punctuation)\n",
    "from sklearn.metrics import classification_report"
   ]
  },
  {
   "cell_type": "markdown",
   "metadata": {},
   "source": [
    "Возьмем данные с соревнования Dialog Evaluation 2015 по исправлению опечаток. Данные представляют собой набор предложений (правильное - ошибочное). Задача найти слова с ошибками и заменить их на правильный вариант.\n",
    "\n",
    "Недостатком тут является то, что не всегда можно правильно сопоставить слова правильного предложения и ошибочного (из-за слов с пропущенным или добавленным пробелом). Из статьи авторов корпуса не очень понятно, как они решали эту проблему, поэтому я просто удалил все такие предложения."
   ]
  },
  {
   "cell_type": "code",
   "execution_count": 4,
   "metadata": {},
   "outputs": [],
   "source": [
    "bad = open('sents_with_mistakes.txt', encoding='utf8').read().splitlines()\n",
    "true = open('correct_sents.txt', encoding='utf8').read().splitlines()"
   ]
  },
  {
   "cell_type": "code",
   "execution_count": 5,
   "metadata": {},
   "outputs": [
    {
     "name": "stdout",
     "output_type": "stream",
     "text": [
      "Пояним эту мысль.\n",
      "Поясним эту мысль\n"
     ]
    }
   ],
   "source": [
    "# Посмотрим на пары предложений\n",
    "print(bad[2])\n",
    "print(true[2])"
   ]
  },
  {
   "cell_type": "code",
   "execution_count": 6,
   "metadata": {
    "collapsed": true
   },
   "outputs": [],
   "source": [
    "# напишем функцию, которая будет сопоставлять слова в правильном и ошибочном варианте\n",
    "# разобьем предложение по пробелам и удалим пунктуация на границах слов\n",
    "def align_words(sent_1, sent_2):\n",
    "    tokens_1 = sent_1.lower().split()\n",
    "    tokens_2 = sent_2.lower().split()\n",
    "    \n",
    "    tokens_1 = [re.sub('(^\\W+|\\W+$)', '', token) for token in tokens_1 if (set(token)-punct)]\n",
    "    tokens_2 = [re.sub('(^\\W+|\\W+$)', '', token) for token in tokens_2 if (set(token)-punct)]\n",
    "    \n",
    "    return list(zip(tokens_1, tokens_2))"
   ]
  },
  {
   "cell_type": "code",
   "execution_count": 7,
   "metadata": {},
   "outputs": [
    {
     "name": "stdout",
     "output_type": "stream",
     "text": [
      "[('апофеозом', 'опофеозом'),\n",
      " ('дня', 'дня'),\n",
      " ('для', 'для'),\n",
      " ('меня', 'меня'),\n",
      " ('сегодня', 'сегодня'),\n",
      " ('стала', 'стала'),\n",
      " ('фраза', 'фраза'),\n",
      " ('услышанная', 'услышанная'),\n",
      " ('в', 'в'),\n",
      " ('новостях', 'новостях')]\n"
     ]
    }
   ],
   "source": [
    "pprint(align_words(true[1], bad[1]))"
   ]
  },
  {
   "cell_type": "markdown",
   "metadata": {},
   "source": [
    "Вытащим только неправильные варианты и заодно посчитаем процент ошибок."
   ]
  },
  {
   "cell_type": "code",
   "execution_count": 8,
   "metadata": {
    "collapsed": true
   },
   "outputs": [],
   "source": [
    "mistakes = []\n",
    "total = 0\n",
    "\n",
    "for i in range(len(true)):\n",
    "    \n",
    "    word_pairs = align_words(true[i], bad[i])\n",
    "    \n",
    "    for pair in word_pairs:\n",
    "        if pair[0] != pair[1]:\n",
    "            mistakes.append(pair)\n",
    "        \n",
    "        total += 1"
   ]
  },
  {
   "cell_type": "code",
   "execution_count": 9,
   "metadata": {},
   "outputs": [
    {
     "name": "stdout",
     "output_type": "stream",
     "text": [
      "Доля ошибок -  0.13034358769476628\n"
     ]
    }
   ],
   "source": [
    "print('Доля ошибок - ', len(mistakes)/total )"
   ]
  },
  {
   "cell_type": "code",
   "execution_count": 10,
   "metadata": {},
   "outputs": [
    {
     "data": {
      "text/plain": [
       "[('симпатичнейшее', 'симпатичнейшое'),\n",
       " ('апофеозом', 'опофеозом'),\n",
       " ('поясним', 'пояним'),\n",
       " ('получатся', 'полчатся'),\n",
       " ('очень', 'оччччень')]"
      ]
     },
     "execution_count": 10,
     "metadata": {},
     "output_type": "execute_result"
    }
   ],
   "source": [
    "mistakes[:5]"
   ]
  },
  {
   "cell_type": "markdown",
   "metadata": {},
   "source": [
    "Обернем в Counter, чтобы сразу увидеть частотные ошибки."
   ]
  },
  {
   "cell_type": "code",
   "execution_count": 11,
   "metadata": {},
   "outputs": [
    {
     "data": {
      "text/plain": [
       "[(('сегодня', 'седня'), 24),\n",
       " (('вообще', 'вобще'), 18),\n",
       " (('вообще', 'ваще'), 17),\n",
       " (('естественно', 'естесственно'), 17),\n",
       " (('хочется', 'хочеться'), 16),\n",
       " (('кстати', 'кстате'), 16),\n",
       " (('очень', 'ооочень'), 14),\n",
       " (('как-то', 'както'), 9),\n",
       " (('очень', 'оооочень'), 9),\n",
       " (('это', 'ето'), 9)]"
      ]
     },
     "execution_count": 11,
     "metadata": {},
     "output_type": "execute_result"
    }
   ],
   "source": [
    "Counter(mistakes).most_common(10)"
   ]
  },
  {
   "cell_type": "markdown",
   "metadata": {},
   "source": [
    "Из-за того, что процент ошибок довольно низкий, не очень выгодно будет находить исправление для каждого слова. Нужен какой-то более простой классификатор, который выделит ошибочные слова, чтобы потом только их и редактировать."
   ]
  },
  {
   "cell_type": "markdown",
   "metadata": {},
   "source": [
    "Самый простой способ это сделать - составить словарь правильных слов и потом сравнивать с ним. Чтобы не делать этого вручную, можно взять какой-нибудь корпус текстов, прошедщих редактуру. Новостные тексты для этого хорошо подходят."
   ]
  },
  {
   "cell_type": "markdown",
   "metadata": {},
   "source": [
    "Я заранее собрал небольшой корпус новостных текстов и немного почистил его удалив отдельную пунктуацию и пунктуацию на границах слов."
   ]
  },
  {
   "cell_type": "code",
   "execution_count": 12,
   "metadata": {
    "collapsed": true
   },
   "outputs": [],
   "source": [
    "corpus = open('corpus_ng.txt', encoding='utf8').read().splitlines()"
   ]
  },
  {
   "cell_type": "code",
   "execution_count": 13,
   "metadata": {},
   "outputs": [
    {
     "name": "stdout",
     "output_type": "stream",
     "text": [
      "['судя', 'по', 'всему', 'русская', 'православная', 'церковь', 'нашла', 'долгожданную', 'национальную', 'идею']\n"
     ]
    }
   ],
   "source": [
    "# нормализация нам тут не нужна так как нужно находить слова в разных формах\n",
    "print(corpus[1].split()[:10])"
   ]
  },
  {
   "cell_type": "markdown",
   "metadata": {},
   "source": [
    "## Задание 1.\n",
    "Напишите функцию, которая будет предсказывать ошибочные слова на основе корпуса."
   ]
  },
  {
   "cell_type": "code",
   "execution_count": 17,
   "metadata": {},
   "outputs": [],
   "source": [
    "from itertools import chain\n",
    "\n",
    "# создайте множество, чтобы проверять вхождения\n",
    "vocab = set(chain.from_iterable([sent.split() for sent in corpus]))"
   ]
  },
  {
   "cell_type": "code",
   "execution_count": 18,
   "metadata": {
    "collapsed": true
   },
   "outputs": [],
   "source": [
    "def predict_mistaken(word, vocab):\n",
    "    '''\n",
    "    ::input: word, vocabulary\n",
    "    ::output: 1 or 0\n",
    "    \n",
    "    '''\n",
    "    if word in vocab:\n",
    "        return 1\n",
    "    else:\n",
    "        return 0"
   ]
  },
  {
   "cell_type": "code",
   "execution_count": 22,
   "metadata": {},
   "outputs": [],
   "source": [
    "# для оценки создайте два списка y_true и y_pred\n",
    "# пройдитесь по предложениям\n",
    "# сопоставите слова с помощью функции align_words\n",
    "# пройдитесь по парам слов и\n",
    "# если слова одинаковые добавьте в y_true 0 \n",
    "# если слова разные добавьте в y_true 1\n",
    "# предскажите ошибочность слова из bad списка \n",
    "# добавьте предсказание в список y_pred\n",
    "\n",
    "y_true = []\n",
    "y_pred = []\n",
    "\n",
    "## ваш код здесь\n",
    "for bad_sent, true_sent in zip(bad, true):\n",
    "    tokens = align_words(bad_sent, true_sent)\n",
    "    for token_bad, token_good in tokens:\n",
    "        if token_bad == token_good:\n",
    "            y_true.append(0)\n",
    "        else:\n",
    "            y_true.append(1)\n",
    "        y_pred.append(predict_mistaken(token_bad, vocab))"
   ]
  },
  {
   "cell_type": "code",
   "execution_count": 23,
   "metadata": {},
   "outputs": [
    {
     "name": "stdout",
     "output_type": "stream",
     "text": [
      "             precision    recall  f1-score   support\n",
      "\n",
      "          0       0.45      0.11      0.17      8707\n",
      "          1       0.02      0.12      0.03      1305\n",
      "\n",
      "avg / total       0.39      0.11      0.16     10012\n",
      "\n"
     ]
    }
   ],
   "source": [
    "# оцените качество с помощью classification_report\n",
    "print(classification_report(y_true, y_pred))"
   ]
  },
  {
   "cell_type": "markdown",
   "metadata": {},
   "source": [
    "### Генерация исправлений"
   ]
  },
  {
   "cell_type": "markdown",
   "metadata": {},
   "source": [
    "Теперь нужно думать о том, как исправить неправильные слова. Посмотрим как это можно делать на примере известной реализации Питера Норвига."
   ]
  },
  {
   "cell_type": "markdown",
   "metadata": {},
   "source": [
    "Основная идея - сделать словарь правильных слов (у нас уже есть), расчитать вероятность каждого слова в корпусе."
   ]
  },
  {
   "cell_type": "code",
   "execution_count": 24,
   "metadata": {
    "collapsed": true
   },
   "outputs": [],
   "source": [
    "corpus = [sent.split() for sent in open('corpus_ng.txt', encoding='utf8').read().splitlines()]\n",
    "WORDS = Counter()\n",
    "for sent in corpus:\n",
    "    WORDS.update(sent)"
   ]
  },
  {
   "cell_type": "code",
   "execution_count": 25,
   "metadata": {},
   "outputs": [
    {
     "data": {
      "text/plain": [
       "[('в', 67679),\n",
       " ('и', 55933),\n",
       " ('на', 27860),\n",
       " ('не', 21627),\n",
       " ('что', 18299),\n",
       " ('с', 18224),\n",
       " ('по', 13117),\n",
       " ('а', 9696),\n",
       " ('как', 8958),\n",
       " ('к', 8907)]"
      ]
     },
     "execution_count": 25,
     "metadata": {},
     "output_type": "execute_result"
    }
   ],
   "source": [
    "WORDS.most_common(10)"
   ]
  },
  {
   "cell_type": "code",
   "execution_count": 26,
   "metadata": {
    "collapsed": true
   },
   "outputs": [],
   "source": [
    "# фунцкия расчета вероятности слова\n",
    "N = sum(WORDS.values())\n",
    "def P(word, N=N): \n",
    "    \"Вычисляем вероятность слова\"\n",
    "    return WORDS[word] / N\n"
   ]
  },
  {
   "cell_type": "code",
   "execution_count": 27,
   "metadata": {},
   "outputs": [
    {
     "data": {
      "text/plain": [
       "1.8025455548325345e-06"
      ]
     },
     "execution_count": 27,
     "metadata": {},
     "output_type": "execute_result"
    }
   ],
   "source": [
    "P('апофеоз')"
   ]
  },
  {
   "cell_type": "markdown",
   "metadata": {},
   "source": [
    "Чтобы найти исправления нужно сгенерировать возможные исправления и выбрать те, которые есть в словаре. Если есть несколько вариантов, то выбрать тот, у котогоро наибольшая вероятность."
   ]
  },
  {
   "cell_type": "code",
   "execution_count": 28,
   "metadata": {
    "collapsed": true
   },
   "outputs": [],
   "source": [
    "def correction(word): \n",
    "    \"Находим наиболее вероятное похожее слово\"\n",
    "    return max(candidates(word), key=P)\n",
    "\n",
    "def candidates(word): \n",
    "    \"Генерируем кандидатов на исправление\"\n",
    "    return (known([word]) or known(edits1(word)) or known(edits2(word)) or [word])\n",
    "\n",
    "def known(words): \n",
    "    \"Выбираем слова, которые есть в корпусе\"\n",
    "    return set(w for w in words if w in WORDS)\n",
    "\n",
    "def edits1(word):\n",
    "    \"Создаем кандидатов, которые отличаются на одну букву\"\n",
    "    letters    = 'йцукенгшщзхъфывапролджэячсмитьбюё'\n",
    "    splits     = [(word[:i], word[i:])    for i in range(len(word) + 1)]\n",
    "    deletes    = [L + R[1:]               for L, R in splits if R]\n",
    "    transposes = [L + R[1] + R[0] + R[2:] for L, R in splits if len(R)>1]\n",
    "    replaces   = [L + c + R[1:]           for L, R in splits if R for c in letters]\n",
    "    inserts    = [L + c + R               for L, R in splits for c in letters]\n",
    "    return set(deletes + transposes + replaces + inserts)\n",
    "\n",
    "def edits2(word): \n",
    "    \"Создаем кандидатов, которые отличаются на две буквы\"\n",
    "    return (e2 for e1 in edits1(word) for e2 in edits1(e1))"
   ]
  },
  {
   "cell_type": "code",
   "execution_count": 29,
   "metadata": {},
   "outputs": [
    {
     "name": "stdout",
     "output_type": "stream",
     "text": [
      "CPU times: user 198 ms, sys: 6 ms, total: 204 ms\n",
      "Wall time: 204 ms\n"
     ]
    },
    {
     "data": {
      "text/plain": [
       "'апофеоз'"
      ]
     },
     "execution_count": 29,
     "metadata": {},
     "output_type": "execute_result"
    }
   ],
   "source": [
    "%%time\n",
    "correction('опефеоз')"
   ]
  },
  {
   "cell_type": "markdown",
   "metadata": {},
   "source": [
    "Давайте поподробнее разберем, что происходит в функции edits."
   ]
  },
  {
   "cell_type": "code",
   "execution_count": 30,
   "metadata": {
    "collapsed": true
   },
   "outputs": [],
   "source": [
    "word = 'опефеоз'\n",
    "splits = [(word[:i], word[i:])    for i in range(len(word) + 1)]"
   ]
  },
  {
   "cell_type": "code",
   "execution_count": 31,
   "metadata": {},
   "outputs": [
    {
     "data": {
      "text/plain": [
       "[('', 'опефеоз'),\n",
       " ('о', 'пефеоз'),\n",
       " ('оп', 'ефеоз'),\n",
       " ('опе', 'феоз'),\n",
       " ('опеф', 'еоз'),\n",
       " ('опефе', 'оз'),\n",
       " ('опефео', 'з'),\n",
       " ('опефеоз', '')]"
      ]
     },
     "execution_count": 31,
     "metadata": {},
     "output_type": "execute_result"
    }
   ],
   "source": [
    "splits[:10]"
   ]
  },
  {
   "cell_type": "code",
   "execution_count": 32,
   "metadata": {
    "collapsed": true
   },
   "outputs": [],
   "source": [
    "deletes = [L + R[1:] for L, R in splits if R]"
   ]
  },
  {
   "cell_type": "code",
   "execution_count": 33,
   "metadata": {},
   "outputs": [
    {
     "data": {
      "text/plain": [
       "['пефеоз', 'оефеоз', 'опфеоз', 'опееоз', 'опефоз', 'опефез', 'опефео']"
      ]
     },
     "execution_count": 33,
     "metadata": {},
     "output_type": "execute_result"
    }
   ],
   "source": [
    "deletes[:10]"
   ]
  },
  {
   "cell_type": "code",
   "execution_count": 34,
   "metadata": {
    "collapsed": true
   },
   "outputs": [],
   "source": [
    "transposes = [L + R[1] + R[0] + R[2:] for L, R in splits if len(R)>1]"
   ]
  },
  {
   "cell_type": "code",
   "execution_count": 35,
   "metadata": {},
   "outputs": [
    {
     "data": {
      "text/plain": [
       "['поефеоз', 'оепфеоз', 'опфееоз', 'опеефоз', 'опефоез', 'опефезо']"
      ]
     },
     "execution_count": 35,
     "metadata": {},
     "output_type": "execute_result"
    }
   ],
   "source": [
    "transposes[:10]"
   ]
  },
  {
   "cell_type": "code",
   "execution_count": 36,
   "metadata": {
    "collapsed": true
   },
   "outputs": [],
   "source": [
    "letters    = 'йцукенгшщзхъфывапролджэячсмитьбюё'\n",
    "replaces = [L + c + R[1:] for L, R in splits if R for c in letters]"
   ]
  },
  {
   "cell_type": "code",
   "execution_count": 37,
   "metadata": {},
   "outputs": [
    {
     "data": {
      "text/plain": [
       "231"
      ]
     },
     "execution_count": 37,
     "metadata": {},
     "output_type": "execute_result"
    }
   ],
   "source": [
    "len(replaces)"
   ]
  },
  {
   "cell_type": "code",
   "execution_count": 38,
   "metadata": {
    "collapsed": true
   },
   "outputs": [],
   "source": [
    "inserts = [L + c + R for L, R in splits for c in letters]"
   ]
  },
  {
   "cell_type": "code",
   "execution_count": 39,
   "metadata": {},
   "outputs": [
    {
     "data": {
      "text/plain": [
       "['йопефеоз',\n",
       " 'цопефеоз',\n",
       " 'уопефеоз',\n",
       " 'копефеоз',\n",
       " 'еопефеоз',\n",
       " 'нопефеоз',\n",
       " 'гопефеоз',\n",
       " 'шопефеоз',\n",
       " 'щопефеоз',\n",
       " 'зопефеоз']"
      ]
     },
     "execution_count": 39,
     "metadata": {},
     "output_type": "execute_result"
    }
   ],
   "source": [
    "inserts[:10]"
   ]
  },
  {
   "cell_type": "markdown",
   "metadata": {},
   "source": [
    "Для оценки используем просто долю правильных исправлений."
   ]
  },
  {
   "cell_type": "code",
   "execution_count": 40,
   "metadata": {},
   "outputs": [
    {
     "name": "stdout",
     "output_type": "stream",
     "text": [
      "0\n",
      "0.7333333333333333\n",
      "10\n",
      "0.8384615384615385\n",
      "20\n",
      "0.8441558441558441\n",
      "30\n",
      "0.8434343434343434\n",
      "40\n",
      "0.847953216374269\n",
      "50\n",
      "0.8518518518518519\n",
      "60\n",
      "0.8458333333333333\n",
      "70\n",
      "0.8502475247524752\n",
      "80\n",
      "0.8501594048884166\n",
      "90\n",
      "0.8526522593320236\n",
      "100\n",
      "0.8512544802867383\n",
      "110\n",
      "0.8547439126784215\n",
      "120\n",
      "0.8546017014694509\n",
      "130\n",
      "0.8534798534798534\n",
      "140\n",
      "0.8523581681476419\n",
      "150\n",
      "0.8580481622306717\n",
      "160\n",
      "0.8573113207547169\n",
      "170\n",
      "0.8568220101066817\n",
      "180\n",
      "0.8541666666666666\n",
      "190\n",
      "0.8552104208416834\n",
      "200\n",
      "0.8581048581048581\n",
      "210\n",
      "0.8593466424682396\n",
      "220\n",
      "0.8598971722365039\n",
      "230\n",
      "0.859958932238193\n",
      "240\n",
      "0.8639350599149594\n",
      "250\n",
      "0.8619170033051781\n",
      "260\n",
      "0.8628209637706648\n",
      "270\n",
      "0.8603786342123056\n",
      "280\n",
      "0.8606001936108422\n",
      "290\n",
      "0.8584758942457231\n",
      "300\n",
      "0.859375\n",
      "310\n",
      "0.8601173020527859\n",
      "320\n",
      "0.8605046781967678\n",
      "330\n",
      "0.8591549295774648\n",
      "340\n",
      "0.8582974137931034\n",
      "350\n",
      "0.8576288929599581\n",
      "360\n",
      "0.8575772934617334\n",
      "370\n",
      "0.8583478045150087\n",
      "380\n",
      "0.8595898673100121\n",
      "390\n",
      "0.8602558029369967\n",
      "400\n",
      "0.8619809788912085\n",
      "410\n",
      "0.8613615870153292\n",
      "420\n",
      "0.8611910560106265\n",
      "430\n",
      "0.8613861386138614\n",
      "440\n",
      "0.8625502220342567\n",
      "450\n",
      "0.861875\n",
      "460\n",
      "0.8620619809600972\n",
      "470\n",
      "0.8597150771666007\n",
      "480\n",
      "0.8602442333785617\n",
      "490\n",
      "0.8605796552377344\n",
      "500\n",
      "0.8606983655274889\n",
      "510\n",
      "0.8595760101467658\n",
      "520\n",
      "0.8592857142857143\n",
      "530\n",
      "0.8599084829285463\n",
      "540\n",
      "0.8591355260892027\n",
      "550\n",
      "0.8593007467752886\n",
      "560\n",
      "0.859739826551034\n",
      "570\n",
      "0.8618721461187214\n",
      "580\n",
      "0.8627513565272902\n",
      "590\n",
      "0.8617287817099906\n",
      "600\n",
      "0.8619892058596762\n",
      "610\n",
      "0.8630880579010857\n",
      "620\n",
      "0.863139225539462\n",
      "630\n",
      "0.8625254582484725\n",
      "640\n",
      "0.8628661688684663\n",
      "650\n",
      "0.8633470080633753\n",
      "660\n",
      "0.8626849009210159\n",
      "670\n",
      "0.8611913605722933\n",
      "680\n",
      "0.8613968597726043\n",
      "690\n",
      "0.862220447284345\n",
      "700\n",
      "0.8619422572178478\n",
      "710\n",
      "0.8620510825878387\n",
      "720\n",
      "0.8607692307692307\n",
      "730\n",
      "0.860126582278481\n",
      "740\n",
      "0.8603693536311455\n",
      "750\n",
      "0.8604765413903218\n",
      "760\n",
      "0.8603888213851761\n",
      "770\n",
      "0.8603841536614646\n",
      "780\n",
      "0.8586337760910816\n",
      "790\n",
      "0.8588125292192613\n",
      "800\n",
      "0.8592686584381128\n",
      "810\n",
      "0.8596831186595235\n",
      "820\n",
      "0.8603527693517582\n",
      "830\n",
      "0.8602663706992231\n",
      "840\n",
      "0.8597701149425288\n",
      "850\n",
      "0.8587272531495639\n",
      "860\n",
      "0.8580391322841344\n",
      "870\n",
      "0.8583894028595458\n",
      "880\n",
      "0.858466021438235\n",
      "890\n",
      "0.8591968778884667\n",
      "900\n",
      "0.859463850528026\n",
      "910\n",
      "0.8596861798430899\n"
     ]
    }
   ],
   "source": [
    "# До этого мы уже считали долю ошибок во всех предложениях.\n",
    "# Поэтому если ничего не менять то доля правильных исправлений уже будет 100 - 13 = 87 %.\n",
    "# Наш подход соответственно должен показывать лучший результат \n",
    "correct = 0\n",
    "total = 0\n",
    "\n",
    "for i in range(len(true)):\n",
    "    word_pairs = align_words(true[i], bad[i])\n",
    "    \n",
    "    for pair in word_pairs:\n",
    "        \n",
    "        predicted = correction(pair[1])\n",
    "        if predicted == pair[0]:\n",
    "            correct += 1\n",
    "        total += 1\n",
    "    if not i % 10:\n",
    "        print(i)\n",
    "        print(correct/total)"
   ]
  },
  {
   "cell_type": "code",
   "execution_count": 41,
   "metadata": {},
   "outputs": [
    {
     "name": "stdout",
     "output_type": "stream",
     "text": [
      "0.8599680383539753\n"
     ]
    }
   ],
   "source": [
    "print(correct/total)"
   ]
  },
  {
   "cell_type": "code",
   "execution_count": 42,
   "metadata": {},
   "outputs": [
    {
     "name": "stdout",
     "output_type": "stream",
     "text": [
      "CPU times: user 308 µs, sys: 1 µs, total: 309 µs\n",
      "Wall time: 314 µs\n"
     ]
    },
    {
     "data": {
      "text/plain": [
       "'на'"
      ]
     },
     "execution_count": 42,
     "metadata": {},
     "output_type": "execute_result"
    }
   ],
   "source": [
    "%%time\n",
    "correction('нав')"
   ]
  },
  {
   "cell_type": "code",
   "execution_count": 43,
   "metadata": {},
   "outputs": [
    {
     "name": "stdout",
     "output_type": "stream",
     "text": [
      "CPU times: user 3.43 s, sys: 59.6 ms, total: 3.49 s\n",
      "Wall time: 3.65 s\n"
     ]
    },
    {
     "data": {
      "text/plain": [
       "'насмехатьсяаававттававаываываы'"
      ]
     },
     "execution_count": 43,
     "metadata": {},
     "output_type": "execute_result"
    }
   ],
   "source": [
    "%%time\n",
    "correction('насмехатьсяаававттававаываываы')"
   ]
  },
  {
   "cell_type": "markdown",
   "metadata": {},
   "source": [
    "Посмотрим какие исправления выбираются для самых частотных опечаток."
   ]
  },
  {
   "cell_type": "code",
   "execution_count": 44,
   "metadata": {},
   "outputs": [
    {
     "data": {
      "text/plain": [
       "[('сегодня', 'седня', 'сеня'),\n",
       " ('вообще', 'вобще', 'вообще'),\n",
       " ('вообще', 'ваще', 'ваще'),\n",
       " ('естественно', 'естесственно', 'естественно'),\n",
       " ('хочется', 'хочеться', 'хочется'),\n",
       " ('кстати', 'кстате', 'кстати'),\n",
       " ('очень', 'ооочень', 'очень'),\n",
       " ('как-то', 'както', 'какао'),\n",
       " ('очень', 'оооочень', 'оооочень'),\n",
       " ('это', 'ето', 'ето')]"
      ]
     },
     "execution_count": 44,
     "metadata": {},
     "output_type": "execute_result"
    }
   ],
   "source": [
    "[(wt[0], wt[1], correction(wt[1])) for wt, _ in Counter(mistakes).most_common(10)]"
   ]
  },
  {
   "cell_type": "code",
   "execution_count": null,
   "metadata": {
    "collapsed": true
   },
   "outputs": [],
   "source": []
  },
  {
   "cell_type": "markdown",
   "metadata": {},
   "source": [
    "### Метрики близости слов."
   ]
  },
  {
   "cell_type": "markdown",
   "metadata": {},
   "source": [
    "Вместо того, чтобы генерировать все варианты, можно искать похожие слова в словаре. Для этого нужно задать метрику похожести. Для исправления опечаток часто используются расстояния редактирования (количество редактирований, которые нужно сделать в строке a, чтобы прийти к b."
   ]
  },
  {
   "cell_type": "code",
   "execution_count": 45,
   "metadata": {
    "collapsed": true
   },
   "outputs": [],
   "source": [
    "# в питоне есть библиотеке для нахождения близких строк"
   ]
  },
  {
   "cell_type": "code",
   "execution_count": 46,
   "metadata": {
    "collapsed": true
   },
   "outputs": [],
   "source": [
    "from difflib import get_close_matches"
   ]
  },
  {
   "cell_type": "code",
   "execution_count": 47,
   "metadata": {},
   "outputs": [
    {
     "name": "stdout",
     "output_type": "stream",
     "text": [
      "CPU times: user 803 ms, sys: 11.8 ms, total: 815 ms\n",
      "Wall time: 827 ms\n"
     ]
    },
    {
     "data": {
      "text/plain": [
       "['апофеоз']"
      ]
     },
     "execution_count": 47,
     "metadata": {},
     "output_type": "execute_result"
    }
   ],
   "source": [
    "%%time\n",
    "get_close_matches('опофеоз', WORDS.keys(), n=1)"
   ]
  },
  {
   "cell_type": "markdown",
   "metadata": {},
   "source": [
    "Работает тоже не очень быстро."
   ]
  },
  {
   "cell_type": "markdown",
   "metadata": {},
   "source": [
    "Недавно вышла библиотека, в которой реализованы многие методы нахождения расстояний."
   ]
  },
  {
   "cell_type": "code",
   "execution_count": 49,
   "metadata": {},
   "outputs": [],
   "source": [
    "import textdistance\n"
   ]
  },
  {
   "cell_type": "code",
   "execution_count": 50,
   "metadata": {
    "collapsed": true
   },
   "outputs": [],
   "source": [
    "def get_closest_match_with_metric(text, lookup, metric=textdistance.levenshtein):\n",
    "    similarities = Counter()\n",
    "    for word in lookup:\n",
    "        similarities[word] = metric.normalized_similarity(text, word) \n",
    "    \n",
    "    return similarities.most_common(1)[0]"
   ]
  },
  {
   "cell_type": "code",
   "execution_count": 51,
   "metadata": {},
   "outputs": [
    {
     "name": "stdout",
     "output_type": "stream",
     "text": [
      "CPU times: user 7.77 s, sys: 194 ms, total: 7.96 s\n",
      "Wall time: 9.09 s\n"
     ]
    },
    {
     "data": {
      "text/plain": [
       "('апофеоз', 0.7142857142857143)"
      ]
     },
     "execution_count": 51,
     "metadata": {},
     "output_type": "execute_result"
    }
   ],
   "source": [
    "%%time\n",
    "get_closest_match_with_metric('опофиоз', WORDS, textdistance.hamming)"
   ]
  },
  {
   "cell_type": "code",
   "execution_count": 52,
   "metadata": {},
   "outputs": [
    {
     "name": "stdout",
     "output_type": "stream",
     "text": [
      "CPU times: user 1min 31s, sys: 1.97 s, total: 1min 33s\n",
      "Wall time: 1min 50s\n"
     ]
    },
    {
     "data": {
      "text/plain": [
       "('апофеоз', 0.8571428571428572)"
      ]
     },
     "execution_count": 52,
     "metadata": {},
     "output_type": "execute_result"
    }
   ],
   "source": [
    "%%time\n",
    "get_closest_match_with_metric('апофиоз', WORDS, textdistance.levenshtein)"
   ]
  },
  {
   "cell_type": "markdown",
   "metadata": {},
   "source": [
    "Ждать так долго мы не можем, поэтому попробуем что-то побыстрее."
   ]
  },
  {
   "cell_type": "markdown",
   "metadata": {},
   "source": [
    "Многие вещи, которые медленно решаются в питоне, можно оптимизировать с помощью матричных и векторных операций."
   ]
  },
  {
   "cell_type": "markdown",
   "metadata": {},
   "source": [
    "Сделаем поиск похожих по векторам символов, из которых состоит слово."
   ]
  },
  {
   "cell_type": "code",
   "execution_count": 53,
   "metadata": {
    "collapsed": true
   },
   "outputs": [],
   "source": [
    "import numpy as np\n",
    "from sklearn.feature_extraction.text import CountVectorizer, TfidfVectorizer\n",
    "from sklearn.metrics.pairwise import cosine_similarity, cosine_distances"
   ]
  },
  {
   "cell_type": "code",
   "execution_count": null,
   "metadata": {
    "collapsed": true
   },
   "outputs": [],
   "source": []
  },
  {
   "cell_type": "code",
   "execution_count": 54,
   "metadata": {
    "collapsed": true
   },
   "outputs": [],
   "source": [
    "corpus = [sent.split() for sent in open('corpus_ng.txt', encoding='utf8').read().splitlines()]\n",
    "WORDS = Counter()\n",
    "for sent in corpus:\n",
    "    WORDS.update(sent)"
   ]
  },
  {
   "cell_type": "code",
   "execution_count": null,
   "metadata": {
    "collapsed": true
   },
   "outputs": [],
   "source": []
  },
  {
   "cell_type": "code",
   "execution_count": 55,
   "metadata": {
    "collapsed": true
   },
   "outputs": [],
   "source": [
    "vocab = list(WORDS.keys())\n",
    "id2word = {i:word for i, word in enumerate(vocab)}\n",
    "\n",
    "vec = TfidfVectorizer(analyzer='char', ngram_range=(1,1))\n",
    "X = vec.fit_transform(vocab)"
   ]
  },
  {
   "cell_type": "code",
   "execution_count": 56,
   "metadata": {
    "collapsed": true
   },
   "outputs": [],
   "source": [
    "def get_closest_match_vec(text, X, vec, TOPN=3):\n",
    "    v = vec.transform([text])\n",
    "    similarities = cosine_distances(v, X)\n",
    "    topn = similarities.argsort()[0][:TOPN]\n",
    "    \n",
    "    return [id2word[top] for top in topn]"
   ]
  },
  {
   "cell_type": "code",
   "execution_count": 57,
   "metadata": {},
   "outputs": [
    {
     "name": "stdout",
     "output_type": "stream",
     "text": [
      "CPU times: user 44.9 ms, sys: 14.3 ms, total: 59.3 ms\n",
      "Wall time: 63.4 ms\n"
     ]
    },
    {
     "data": {
      "text/plain": [
       "['апофеоз', 'апофеозом', 'апофеоза']"
      ]
     },
     "execution_count": 57,
     "metadata": {},
     "output_type": "execute_result"
    }
   ],
   "source": [
    "%%time\n",
    "get_closest_match_vec('опофеоз', X, vec)"
   ]
  },
  {
   "cell_type": "markdown",
   "metadata": {},
   "source": [
    "## Задание 2. \n"
   ]
  },
  {
   "cell_type": "markdown",
   "metadata": {},
   "source": [
    "Напишите функцию, которая принимает слово и находит ближайшее к нему в словаре (сгенерируйте несколько кандидатов с помощью get_closest_match_vec, а затем посчитайте метрики близости до кадого слова и выведете самое близкое). "
   ]
  },
  {
   "cell_type": "code",
   "execution_count": 69,
   "metadata": {},
   "outputs": [],
   "source": [
    "def get_closest_hybrid_match(text, X, vec, metric=textdistance.levenshtein):\n",
    "    match_dict = {match: metric(text, match) \\\n",
    "        for match in get_closest_match_vec(text, X, vec, TOPN=10)}\n",
    "    closest = sorted(match_dict, key=match_dict.get)[0]\n",
    "    return closest"
   ]
  },
  {
   "cell_type": "code",
   "execution_count": 70,
   "metadata": {},
   "outputs": [
    {
     "data": {
      "text/plain": [
       "'алкоголь'"
      ]
     },
     "execution_count": 70,
     "metadata": {},
     "output_type": "execute_result"
    }
   ],
   "source": [
    "get_closest_hybrid_match('алкогнль', X, vec)"
   ]
  },
  {
   "cell_type": "code",
   "execution_count": 78,
   "metadata": {},
   "outputs": [],
   "source": [
    "from sklearn.metrics import accuracy_score\n",
    "from sklearn.metrics import precision_score\n",
    "from sklearn.metrics import recall_score\n",
    "from sklearn.metrics import f1_score\n",
    "\n",
    "# оцените качество также как и раньше (если будет долго работать возьмите кусок данных)\n",
    "# посмотрите на ошибки\n",
    "y_true = []\n",
    "y_pred = []\n",
    "\n",
    "for bad_sent, true_sent in zip(bad, true):\n",
    "    tokens = align_words(bad_sent, true_sent)\n",
    "    for token_bad, token_good in tokens:\n",
    "        if token_bad != token_good:\n",
    "            y_true.append(token_good)\n",
    "            y_pred.append(get_closest_hybrid_match(token_bad, X, vec))"
   ]
  },
  {
   "cell_type": "code",
   "execution_count": 79,
   "metadata": {},
   "outputs": [
    {
     "name": "stdout",
     "output_type": "stream",
     "text": [
      "Accuracy: 0.4459770114942529\n",
      "Precision: 0.4459770114942529\n",
      "Recall: 0.4459770114942529\n",
      "F1-score: 0.4459770114942529\n"
     ]
    }
   ],
   "source": [
    "print(f\"Accuracy: {accuracy_score(y_true, y_pred)}\")\n",
    "print(f\"Precision: {precision_score(y_true, y_pred, average='micro')}\")\n",
    "print(f\"Recall: {recall_score(y_true, y_pred, average='micro')}\")\n",
    "print(f\"F1-score: {f1_score(y_true, y_pred, average='micro')}\")"
   ]
  },
  {
   "cell_type": "code",
   "execution_count": 80,
   "metadata": {},
   "outputs": [
    {
     "name": "stdout",
     "output_type": "stream",
     "text": [
      "Correct token: симпатичнейшее, predicted token: пластичнейшими\n",
      "Correct token: получатся, predicted token: ополчатся\n",
      "Correct token: очень, predicted token: очерчен\n",
      "Correct token: насчет, predicted token: защищает\n",
      "Correct token: в, predicted token: общем\n",
      "Correct token: общем, predicted token: как\n",
      "Correct token: как, predicted token: вы\n",
      "Correct token: вы, predicted token: знаете\n",
      "Correct token: знаете, predicted token: из\n",
      "Correct token: из, predicted token: моего\n",
      "Correct token: моего, predicted token: не\n",
      "Correct token: недавнего, predicted token: давнего\n",
      "Correct token: хорошо, predicted token: хорошее\n",
      "Correct token: потому, predicted token: трампу\n",
      "Correct token: что, predicted token: штат\n",
      "Correct token: повтыкав, predicted token: фотка\n",
      "Correct token: что-то, predicted token: что\n",
      "Correct token: мощный, predicted token: мышкой\n",
      "Correct token: хорошо, predicted token: хорошее\n",
      "Correct token: молодежь, predicted token: молодежи\n",
      "Correct token: сегодня, predicted token: сиднея\n",
      "Correct token: навешать, predicted token: вешать\n",
      "Correct token: конечно, predicted token: канаш\n",
      "Correct token: начальник, predicted token: начальное\n",
      "Correct token: по-взрослому, predicted token: взрослому\n",
      "Correct token: подсаживается, predicted token: подсаживался\n",
      "Correct token: женщина, predicted token: нежна\n",
      "Correct token: какие-то, predicted token: катки\n",
      "Correct token: малолетние, predicted token: миллиона\n",
      "Correct token: молодежь, predicted token: молодежи\n",
      "Correct token: ощущаю, predicted token: шуршащую\n",
      "Correct token: монголоидом, predicted token: монологом\n",
      "Correct token: молчу, predicted token: молчанию\n",
      "Correct token: барьер, predicted token: турбъерн\n",
      "Correct token: объелись, predicted token: объять\n",
      "Correct token: расспрашивая, predicted token: спрашивая\n",
      "Correct token: зубодробительная, predicted token: убедительно\n",
      "Correct token: как, predicted token: кана\n",
      "Correct token: письмена, predicted token: писанием\n",
      "Correct token: расшифровать, predicted token: форсировать\n",
      "Correct token: самой-то, predicted token: самой\n",
      "Correct token: тут, predicted token: тула\n",
      "Correct token: вообще, predicted token: ваще\n",
      "Correct token: только, predicted token: тока\n",
      "Correct token: наверное, predicted token: наверно\n",
      "Correct token: как-то, predicted token: каток\n",
      "Correct token: мужчину, predicted token: ущи\n",
      "Correct token: никогда, predicted token: канда\n",
      "Correct token: съездили, predicted token: съездил\n",
      "Correct token: пришлось, predicted token: пришлись\n",
      "Correct token: зубные, predicted token: разумные\n",
      "Correct token: пользоваться, predicted token: поцеловать\n",
      "Correct token: креатив, predicted token: трафике\n",
      "Correct token: если, predicted token: несли\n",
      "Correct token: обнимает, predicted token: поднимает\n",
      "Correct token: получается, predicted token: получаться\n",
      "Correct token: разрушается, predicted token: разрушаться\n",
      "Correct token: правило, predicted token: правила\n",
      "Correct token: кстати, predicted token: остатке\n",
      "Correct token: немного, predicted token: намного\n",
      "Correct token: высыпание, predicted token: высыпано\n",
      "Correct token: пьяный, predicted token: пятый\n",
      "Correct token: кстати, predicted token: остатке\n",
      "Correct token: что-то, predicted token: что\n",
      "Correct token: собственно, predicted token: особист\n",
      "Correct token: сохраню, predicted token: сохраняю\n",
      "Correct token: вообще, predicted token: ваще\n",
      "Correct token: ад, predicted token: та\n",
      "Correct token: первый, predicted token: первой\n",
      "Correct token: никогда, predicted token: канда\n",
      "Correct token: кстати, predicted token: остатке\n",
      "Correct token: позже, predicted token: пежо\n",
      "Correct token: когда-то, predicted token: когда\n",
      "Correct token: вообще, predicted token: ваще\n",
      "Correct token: все, predicted token: фе\n",
      "Correct token: насчет, predicted token: нищета\n",
      "Correct token: гулливера, predicted token: гулиева\n",
      "Correct token: самый, predicted token: самыми\n",
      "Correct token: своей, predicted token: свои\n",
      "Correct token: на, predicted token: но\n",
      "Correct token: никак, predicted token: кое-как\n",
      "Correct token: рекомендации, predicted token: рекомендация\n",
      "Correct token: удалить, predicted token: капиталъ\n",
      "Correct token: ремонт, predicted token: ромэн\n",
      "Correct token: вообще, predicted token: ваще\n",
      "Correct token: еще, predicted token: оше\n",
      "Correct token: асфальтоукладчик, predicted token: фальковича\n",
      "Correct token: разве, predicted token: резать\n",
      "Correct token: пришлось, predicted token: прощалось\n",
      "Correct token: собственно, predicted token: особист\n",
      "Correct token: начните, predicted token: начинать\n",
      "Correct token: он, predicted token: обыгрывает\n",
      "Correct token: выгребает, predicted token: ее\n",
      "Correct token: ее, predicted token: из\n",
      "Correct token: из-под, predicted token: под\n",
      "Correct token: не, predicted token: небывало\n",
      "Correct token: было, predicted token: никогда\n",
      "Correct token: никогда, predicted token: любви\n",
      "Correct token: любви-то, predicted token: то\n",
      "Correct token: начальник, predicted token: начальное\n",
      "Correct token: зайти, predicted token: затеи\n",
      "Correct token: ненавидишь, predicted token: ненавидеть\n",
      "Correct token: мыслящая, predicted token: осмысляющие\n",
      "Correct token: сегодня, predicted token: сиднея\n",
      "Correct token: получается, predicted token: получаться\n",
      "Correct token: серой, predicted token: строем\n",
      "Correct token: рисунком, predicted token: рисунков\n",
      "Correct token: продолжение, predicted token: продолжения\n",
      "Correct token: потому, predicted token: потону\n",
      "Correct token: тасовать, predicted token: стартовать\n",
      "Correct token: все, predicted token: фе\n",
      "Correct token: сегодня, predicted token: сиднея\n",
      "Correct token: страшно, predicted token: страшна\n",
      "Correct token: конечно, predicted token: канаш\n",
      "Correct token: праздник, predicted token: разгоне\n",
      "Correct token: встретиться, predicted token: тристецца\n",
      "Correct token: нахожусь, predicted token: сажусь\n",
      "Correct token: следующей, predicted token: сделавшей\n",
      "Correct token: вообще, predicted token: ваще\n",
      "Correct token: обычно, predicted token: обучено\n",
      "Correct token: садиться, predicted token: садится\n",
      "Correct token: серебряном, predicted token: серебряному\n",
      "Correct token: сегодня, predicted token: сиднея\n",
      "Correct token: еще, predicted token: оше\n",
      "Correct token: безупречное, predicted token: безупречно\n",
      "Correct token: ищете, predicted token: ищите\n",
      "Correct token: какого, predicted token: какова\n",
      "Correct token: района, predicted token: рана\n",
      "Correct token: всякий, predicted token: всякой\n",
      "Correct token: угощали, predicted token: оглушал\n",
      "Correct token: подделанная, predicted token: проделанная\n",
      "Correct token: приятно, predicted token: приятны\n",
      "Correct token: познакомиться, predicted token: спецназовцам\n",
      "Correct token: большой, predicted token: большое\n",
      "Correct token: кстати, predicted token: остатке\n",
      "Correct token: не, predicted token: знаю\n",
      "Correct token: знаю, predicted token: ходить\n",
      "Correct token: ходить, predicted token: на\n",
      "Correct token: на, predicted token: море\n",
      "Correct token: море, predicted token: делать\n",
      "Correct token: делать, predicted token: ремонт\n",
      "Correct token: ремонт, predicted token: кого\n",
      "Correct token: кого-нибудь, predicted token: будь\n",
      "Correct token: осчастливленный, predicted token: оставленный\n",
      "Correct token: что, predicted token: чуть\n",
      "Correct token: поведайте, predicted token: поведет\n",
      "Correct token: только, predicted token: тока\n",
      "Correct token: начальник, predicted token: начальное\n",
      "Correct token: читаемость, predicted token: считать\n",
      "Correct token: мальчики, predicted token: мальчуган\n",
      "Correct token: присоединяюсь, predicted token: присоединилась\n",
      "Correct token: это, predicted token: ето\n",
      "Correct token: сегодня, predicted token: сиднея\n",
      "Correct token: лосьончика, predicted token: окончилась\n",
      "Correct token: кстати, predicted token: остатке\n",
      "Correct token: объяснить, predicted token: обнять\n",
      "Correct token: просвистевшая, predicted token: совершая\n",
      "Correct token: обернуться, predicted token: берутся\n",
      "Correct token: сегодня, predicted token: сиднея\n",
      "Correct token: постарайтесь, predicted token: старайтесь\n",
      "Correct token: пройдя, predicted token: породы\n",
      "Correct token: сумасшедшего, predicted token: ушедшего\n",
      "Correct token: гордиться, predicted token: гордится\n",
      "Correct token: поссорилась, predicted token: поссорились\n",
      "Correct token: каким-нибудь, predicted token: накормить\n",
      "Correct token: даже, predicted token: де\n",
      "Correct token: вообще, predicted token: ваще\n",
      "Correct token: мозаика, predicted token: займа\n",
      "Correct token: паутину, predicted token: пути\n",
      "Correct token: непридуманная, predicted token: надуманная\n",
      "Correct token: пересказываю, predicted token: предсказывают\n",
      "Correct token: подгрузился, predicted token: погрузился\n",
      "Correct token: набирала, predicted token: набрала\n",
      "Correct token: завизжали, predicted token: зажали\n",
      "Correct token: наглядно, predicted token: нагнал\n",
      "Correct token: поэтому, predicted token: потому\n",
      "Correct token: кинокомпанией, predicted token: кинокомпании\n",
      "Correct token: машине, predicted token: мщение\n",
      "Correct token: преинтереснейшее, predicted token: интереснейшее\n",
      "Correct token: я, predicted token: мя\n",
      "Correct token: сегодня, predicted token: сиднея\n",
      "Correct token: что, predicted token: шт\n",
      "Correct token: осталось, predicted token: оставалось\n",
      "Correct token: статусы, predicted token: страусы\n",
      "Correct token: однокурсница, predicted token: одноклассница\n",
      "Correct token: мозг, predicted token: замок\n",
      "Correct token: естественно, predicted token: сено\n",
      "Correct token: завтра, predicted token: фарфора\n",
      "Correct token: кстати, predicted token: остатке\n",
      "Correct token: получается, predicted token: получаться\n",
      "Correct token: придется, predicted token: предаться\n",
      "Correct token: наконец-то, predicted token: наконец\n",
      "Correct token: ручонки, predicted token: ученики\n",
      "Correct token: кнопочки, predicted token: прокачки\n",
      "Correct token: прикладываем, predicted token: прикладывает\n",
      "Correct token: деньги, predicted token: денег\n",
      "Correct token: отдаются, predicted token: отдаться\n",
      "Correct token: насчет, predicted token: нищета\n",
      "Correct token: отбеливания, predicted token: требование\n",
      "Correct token: еще, predicted token: оше\n",
      "Correct token: трехчасовой, predicted token: часовой\n",
      "Correct token: хорошо, predicted token: хорошее\n",
      "Correct token: прагматично, predicted token: прагматичного\n",
      "Correct token: соедините, predicted token: соединение\n",
      "Correct token: в, predicted token: общем\n",
      "Correct token: общем, predicted token: ницца\n",
      "Correct token: снится, predicted token: мне\n",
      "Correct token: мне, predicted token: что\n",
      "Correct token: что, predicted token: я\n",
      "Correct token: я, predicted token: нашел\n",
      "Correct token: нашел-таки, predicted token: таки\n",
      "Correct token: сволочи, predicted token: сворачивал\n",
      "Correct token: опять, predicted token: пять\n",
      "Correct token: она, predicted token: ана\n",
      "Correct token: стрельбище, predicted token: блестяще\n",
      "Correct token: как-то, predicted token: каток\n",
      "Correct token: гостиная, predicted token: глотания\n",
      "Correct token: вообще, predicted token: ваще\n",
      "Correct token: долго-долго-долго, predicted token: долго-долго\n",
      "Correct token: насчет, predicted token: нищета\n",
      "Correct token: естественно, predicted token: сено\n",
      "Correct token: экскурсоводы, predicted token: экскурсовод\n",
      "Correct token: значит, predicted token: зачет\n",
      "Correct token: кино, predicted token: коне\n",
      "Correct token: кидал, predicted token: клад\n",
      "Correct token: кидалы, predicted token: кандалы\n",
      "Correct token: подскажите, predicted token: подскажет\n",
      "Correct token: кровищи, predicted token: кровища\n",
      "Correct token: целью, predicted token: целую\n",
      "Correct token: промозгло, predicted token: промозглом\n",
      "Correct token: в, predicted token: вообще\n",
      "Correct token: общем-то, predicted token: то\n",
      "Correct token: кстати, predicted token: остатке\n",
      "Correct token: напьешься, predicted token: меньшая\n",
      "Correct token: насущного, predicted token: сущего\n",
      "Correct token: теоретизированное, predicted token: третирование\n",
      "Correct token: чтобы, predicted token: что\n",
      "Correct token: больно, predicted token: бы\n",
      "Correct token: не, predicted token: больно\n",
      "Correct token: было, predicted token: небывало\n",
      "Correct token: хорошо, predicted token: хорошее\n",
      "Correct token: сделать, predicted token: делать\n",
      "Correct token: настоящий, predicted token: стоявший\n",
      "Correct token: это, predicted token: ето\n",
      "Correct token: одна, predicted token: одно\n",
      "Correct token: вещей, predicted token: вшей\n",
      "Correct token: общая, predicted token: башня\n",
      "Correct token: адски, predicted token: цика\n",
      "Correct token: кощунство, predicted token: коршунов\n",
      "Correct token: мамочки, predicted token: максимовича\n",
      "Correct token: здесь, predicted token: днесь\n",
      "Correct token: нравится, predicted token: нравиться\n",
      "Correct token: программка, predicted token: программа\n",
      "Correct token: пресловутая, predicted token: перламутровая\n",
      "Correct token: придя, predicted token: пройдя\n",
      "Correct token: ирокез, predicted token: ирказе\n",
      "Correct token: это, predicted token: ето\n",
      "Correct token: прикол, predicted token: прокол\n",
      "Correct token: объехав, predicted token: ходьба\n",
      "Correct token: въехал, predicted token: вальехо\n",
      "Correct token: получается, predicted token: получаться\n",
      "Correct token: получается, predicted token: получаться\n",
      "Correct token: не, predicted token: ни\n",
      "Correct token: половозрелые, predicted token: половозрелый\n",
      "Correct token: как, predicted token: кабы\n",
      "Correct token: бы, predicted token: из\n",
      "Correct token: из-под, predicted token: под\n",
      "Correct token: новозаветная, predicted token: новоявленная\n",
      "Correct token: это, predicted token: ето\n",
      "Correct token: это, predicted token: ето\n",
      "Correct token: негодные, predicted token: эгон\n",
      "Correct token: оплата, predicted token: альп\n",
      "Correct token: как-то, predicted token: каток\n",
      "Correct token: вообще, predicted token: ваще\n",
      "Correct token: бабешку, predicted token: бомбежку\n",
      "Correct token: жемчужинки, predicted token: жемчужин\n",
      "Correct token: постарее, predicted token: постер\n",
      "Correct token: придя, predicted token: пройдя\n",
      "Correct token: острове, predicted token: острое\n",
      "Correct token: таиланде, predicted token: айленд\n",
      "Correct token: здесь, predicted token: днесь\n",
      "Correct token: наконец-то, predicted token: наконец\n",
      "Correct token: наконец-то, predicted token: наконец\n",
      "Correct token: что, predicted token: че\n",
      "Correct token: это, predicted token: ето\n",
      "Correct token: утешаюсь, predicted token: решаюсь\n",
      "Correct token: обмороженных, predicted token: огороженных\n",
      "Correct token: ошпаренных, predicted token: опрошенных\n",
      "Correct token: отпраздную, predicted token: разную\n",
      "Correct token: кстати, predicted token: остатке\n",
      "Correct token: полетим, predicted token: полетаем\n",
      "Correct token: сегодня, predicted token: сиднея\n",
      "Correct token: со, predicted token: сосо\n",
      "Correct token: встречавшимися, predicted token: встречающимися\n",
      "Correct token: сейчас, predicted token: сайнца\n",
      "Correct token: солнышком, predicted token: слишком\n",
      "Correct token: чтобы, predicted token: четы\n",
      "Correct token: пронзительно, predicted token: пронзительной\n",
      "Correct token: начальник, predicted token: начальное\n",
      "Correct token: паспорт, predicted token: прочат\n",
      "Correct token: сегодня, predicted token: сиднея\n",
      "Correct token: напыщенные, predicted token: насыщенные\n",
      "Correct token: понедельник, predicted token: предельного\n",
      "Correct token: только, predicted token: тока\n",
      "Correct token: сегодня, predicted token: сиднея\n",
      "Correct token: пинг-понг, predicted token: пудинг\n",
      "Correct token: предыстория, predicted token: предъявления\n"
     ]
    },
    {
     "name": "stdout",
     "output_type": "stream",
     "text": [
      "Correct token: одним, predicted token: днем\n",
      "Correct token: значит, predicted token: зачет\n",
      "Correct token: пришлось, predicted token: пришлись\n",
      "Correct token: сегодня, predicted token: сиднея\n",
      "Correct token: когда, predicted token: ягод\n",
      "Correct token: мясные, predicted token: мысе\n",
      "Correct token: отдирала, predicted token: отдали\n",
      "Correct token: отдыхаем, predicted token: отмечаемых\n",
      "Correct token: конечно, predicted token: окрашенное\n",
      "Correct token: ого-го, predicted token: ого\n",
      "Correct token: вообще, predicted token: ваще\n",
      "Correct token: рекомендуемо, predicted token: меморандуму\n",
      "Correct token: равно, predicted token: ровно\n",
      "Correct token: осталось, predicted token: остальном\n",
      "Correct token: шкварчать, predicted token: ворчать\n",
      "Correct token: слезятся, predicted token: связаться\n",
      "Correct token: просмотреть, predicted token: просмотре\n",
      "Correct token: что-то, predicted token: что\n",
      "Correct token: как-то, predicted token: каток\n",
      "Correct token: разве, predicted token: резать\n",
      "Correct token: прожигам, predicted token: прежнего\n",
      "Correct token: мужчина, predicted token: ущи\n",
      "Correct token: эгоистично, predicted token: реалистичного\n",
      "Correct token: много, predicted token: ногам\n",
      "Correct token: присоединишься, predicted token: присоединиться\n",
      "Correct token: учительница, predicted token: учитель\n",
      "Correct token: продажа, predicted token: продана\n",
      "Correct token: таиланд, predicted token: айленд\n",
      "Correct token: пейзажи, predicted token: пейзаж\n",
      "Correct token: здесь, predicted token: днесь\n",
      "Correct token: смирительную, predicted token: смертельную\n",
      "Correct token: дав, predicted token: дафна\n",
      "Correct token: как-то, predicted token: каток\n",
      "Correct token: сегодня, predicted token: сиднея\n",
      "Correct token: очень, predicted token: очное\n",
      "Correct token: помощник, predicted token: посошком\n",
      "Correct token: вообще, predicted token: ваще\n",
      "Correct token: трех, predicted token: 3-х\n",
      "Correct token: это, predicted token: ето\n",
      "Correct token: хрен, predicted token: хань\n",
      "Correct token: как-то, predicted token: как\n",
      "Correct token: странно, predicted token: то\n",
      "Correct token: на, predicted token: странно\n",
      "Correct token: улице, predicted token: на\n",
      "Correct token: супер, predicted token: улице\n",
      "Correct token: просто, predicted token: супер\n",
      "Correct token: а, predicted token: просто\n",
      "Correct token: я, predicted token: а\n",
      "Correct token: целый, predicted token: я\n",
      "Correct token: день, predicted token: целый\n",
      "Correct token: проспала, predicted token: день\n",
      "Correct token: потом, predicted token: пропала\n",
      "Correct token: уборкой, predicted token: потом\n",
      "Correct token: занималась, predicted token: уборной\n",
      "Correct token: ну, predicted token: занималась\n",
      "Correct token: в, predicted token: ну\n",
      "Correct token: низкокалорийное, predicted token: низкокалорийной\n",
      "Correct token: ничего, predicted token: ничто\n",
      "Correct token: запропала, predicted token: закапал\n",
      "Correct token: как-то, predicted token: каток\n",
      "Correct token: подискутировали, predicted token: дискутировали\n",
      "Correct token: просто, predicted token: портос\n",
      "Correct token: счастлив, predicted token: афтрис\n",
      "Correct token: рассказик, predicted token: рассказе\n",
      "Correct token: перезванивает, predicted token: развеивает\n",
      "Correct token: нечаянно, predicted token: ненаучной\n",
      "Correct token: прогулялся, predicted token: прогуляется\n",
      "Correct token: наконец-то, predicted token: наконец\n",
      "Correct token: опосля, predicted token: попался\n",
      "Correct token: из-за, predicted token: из\n",
      "Correct token: здесь, predicted token: днесь\n",
      "Correct token: угораздило, predicted token: раздули\n",
      "Correct token: кстати, predicted token: остатке\n",
      "Correct token: намазываем, predicted token: называем\n",
      "Correct token: естественно, predicted token: стрессе\n",
      "Correct token: ранее, predicted token: раннее\n",
      "Correct token: пост, predicted token: стоп\n",
      "Correct token: что-то, predicted token: что\n",
      "Correct token: рыться, predicted token: цр\n",
      "Correct token: ничего, predicted token: ничто\n",
      "Correct token: методологическое, predicted token: методологическом\n",
      "Correct token: сколько, predicted token: сока\n",
      "Correct token: сегодня, predicted token: сиднея\n",
      "Correct token: приземлились, predicted token: приземлилась\n",
      "Correct token: целоваться, predicted token: галеаццо\n",
      "Correct token: неудачники, predicted token: неудачного\n",
      "Correct token: погуляем, predicted token: погуляет\n",
      "Correct token: послезавтра, predicted token: платформа\n",
      "Correct token: обещанные, predicted token: обреченные\n",
      "Correct token: свой, predicted token: свао\n",
      "Correct token: кто-то, predicted token: токто\n",
      "Correct token: привязанность, predicted token: связанность\n",
      "Correct token: когда, predicted token: ягод\n",
      "Correct token: папилломавирусы, predicted token: промывали\n",
      "Correct token: здесь, predicted token: издается\n",
      "Correct token: естественно, predicted token: стрессе\n",
      "Correct token: кстати, predicted token: остатке\n",
      "Correct token: маленьких, predicted token: хабенским\n",
      "Correct token: адски, predicted token: акции\n",
      "Correct token: патологически, predicted token: патологический\n",
      "Correct token: пожелайте, predicted token: пожалуйста\n",
      "Correct token: представьте, predicted token: представить\n",
      "Correct token: съездил, predicted token: сельди\n",
      "Correct token: разделенный, predicted token: разделенной\n",
      "Correct token: старую, predicted token: струю\n",
      "Correct token: немного, predicted token: намного\n",
      "Correct token: только, predicted token: кольского\n",
      "Correct token: что, predicted token: шт\n",
      "Correct token: смущение, predicted token: смешение\n",
      "Correct token: ничего, predicted token: ничто\n",
      "Correct token: из-за, predicted token: из\n",
      "Correct token: вчера, predicted token: 44\n",
      "Correct token: вечер, predicted token: 444\n",
      "Correct token: напроситесь, predicted token: присесть\n",
      "Correct token: оказывается, predicted token: оказаться\n",
      "Correct token: сегодня, predicted token: сиднея\n",
      "Correct token: подойдите, predicted token: подойти\n",
      "Correct token: что, predicted token: шт\n",
      "Correct token: причисляя, predicted token: причислялся\n",
      "Correct token: приходится, predicted token: приходиться\n",
      "Correct token: счастье, predicted token: шесть\n",
      "Correct token: мелодрамы, predicted token: мелодраме\n",
      "Correct token: наконец-то, predicted token: наконец\n",
      "Correct token: очень, predicted token: очное\n",
      "Correct token: завтра, predicted token: фраз\n",
      "Correct token: молодежь, predicted token: молодежи\n",
      "Correct token: что-то, predicted token: что\n",
      "Correct token: сегодня, predicted token: сиднея\n",
      "Correct token: сегодня, predicted token: сиднея\n",
      "Correct token: что, predicted token: че\n",
      "Correct token: вот, predicted token: ото\n",
      "Correct token: кстати, predicted token: остатке\n",
      "Correct token: 4-х, predicted token: 44\n",
      "Correct token: фаланги, predicted token: флаги\n",
      "Correct token: из-за, predicted token: из\n",
      "Correct token: отбеливание, predicted token: требование\n",
      "Correct token: однако, predicted token: одна\n",
      "Correct token: любви, predicted token: вбили\n",
      "Correct token: кривляться, predicted token: кривляется\n",
      "Correct token: сделать, predicted token: делать\n",
      "Correct token: самодостаточность, predicted token: самодостаточной\n",
      "Correct token: разве, predicted token: резать\n",
      "Correct token: последний, predicted token: последней\n",
      "Correct token: кстати, predicted token: остатке\n",
      "Correct token: парализована, predicted token: парализовано\n",
      "Correct token: что-то, predicted token: что\n",
      "Correct token: в, predicted token: у\n",
      "Correct token: безысходность, predicted token: безысходности\n",
      "Correct token: очень, predicted token: очное\n",
      "Correct token: сегодня, predicted token: сиднея\n",
      "Correct token: сегодня, predicted token: сиднея\n",
      "Correct token: очень, predicted token: очное\n",
      "Correct token: объяснил, predicted token: обнялись\n",
      "Correct token: сегодня, predicted token: сиднея\n",
      "Correct token: приятно, predicted token: притонов\n",
      "Correct token: восхитительный, predicted token: восхитительной\n",
      "Correct token: вообще, predicted token: ваще\n",
      "Correct token: поскользнулся, predicted token: поскользнуться\n",
      "Correct token: собственно, predicted token: особист\n",
      "Correct token: очень-очень, predicted token: очень-то\n",
      "Correct token: придется, predicted token: предаться\n",
      "Correct token: чертов, predicted token: чертово\n",
      "Correct token: онтогенетически, predicted token: онтологически\n",
      "Correct token: растолкала, predicted token: таскала\n",
      "Correct token: какая-то, predicted token: какая\n",
      "Correct token: кстати, predicted token: остатке\n",
      "Correct token: собственно, predicted token: особист\n",
      "Correct token: тащусь, predicted token: шашист\n",
      "Correct token: вообще, predicted token: ваще\n",
      "Correct token: подонок, predicted token: погода\n",
      "Correct token: продолжение, predicted token: продолжено\n",
      "Correct token: перкуссионист, predicted token: перкуссионистка\n",
      "Correct token: почему-то, predicted token: почему\n",
      "Correct token: завис, predicted token: то\n",
      "Correct token: в, predicted token: завис\n",
      "Correct token: общем, predicted token: вообще\n",
      "Correct token: в, predicted token: вообще\n",
      "Correct token: общем-то, predicted token: то\n",
      "Correct token: отрисовала, predicted token: отстаивала\n",
      "Correct token: кто-то, predicted token: токто\n",
      "Correct token: ведь, predicted token: ветвь\n",
      "Correct token: все-таки, predicted token: де-факто\n",
      "Correct token: естественно, predicted token: стрессе\n",
      "Correct token: получается, predicted token: получаться\n",
      "Correct token: что, predicted token: просто\n",
      "Correct token: просто, predicted token: невозможно\n",
      "Correct token: невозможно, predicted token: все\n",
      "Correct token: все, predicted token: это\n",
      "Correct token: это, predicted token: вместить\n",
      "Correct token: вместить, predicted token: в\n",
      "Correct token: в, predicted token: карточку\n",
      "Correct token: карточку, predicted token: ну\n",
      "Correct token: ну, predicted token: ни\n",
      "Correct token: никак, predicted token: как\n",
      "Correct token: накатило, predicted token: лактионов\n",
      "Correct token: его, predicted token: иво\n",
      "Correct token: человека, predicted token: калачева\n",
      "Correct token: сегодня, predicted token: сиднея\n",
      "Correct token: миллион, predicted token: миньо\n",
      "Correct token: вообще, predicted token: ваще\n",
      "Correct token: творите, predicted token: травиате\n",
      "Correct token: теперь, predicted token: треть\n",
      "Correct token: завтра, predicted token: фраз\n",
      "Correct token: вообще, predicted token: ваще\n",
      "Correct token: отлично, predicted token: отлична\n",
      "Correct token: кому-то, predicted token: мутко\n",
      "Correct token: неорганизованная, predicted token: реорганизована\n",
      "Correct token: становится, predicted token: истцов\n",
      "Correct token: мечи, predicted token: мяч\n",
      "Correct token: попытке, predicted token: попытки\n",
      "Correct token: слетел, predicted token: летел\n",
      "Correct token: папилломовирус, predicted token: правилом\n",
      "Correct token: лучше, predicted token: луч\n",
      "Correct token: сейчас, predicted token: щас\n",
      "Correct token: ничего, predicted token: ничто\n",
      "Correct token: открыл, predicted token: крыло\n",
      "Correct token: адский, predicted token: акций\n",
      "Correct token: что-то, predicted token: что\n",
      "Correct token: сегодня, predicted token: сиднея\n",
      "Correct token: карачках, predicted token: корточках\n",
      "Correct token: конечно, predicted token: канаш\n",
      "Correct token: несколько, predicted token: осколке\n",
      "Correct token: ничего, predicted token: ничто\n",
      "Correct token: что, predicted token: шт\n",
      "Correct token: что, predicted token: то\n",
      "Correct token: когда-то, predicted token: когда\n",
      "Correct token: процветание, predicted token: прочтение\n",
      "Correct token: сегодня, predicted token: сиднея\n",
      "Correct token: из-за, predicted token: из\n",
      "Correct token: девок, predicted token: давке\n",
      "Correct token: вообще, predicted token: ваще\n",
      "Correct token: товарищ, predicted token: ворчит\n",
      "Correct token: сегодня, predicted token: сиднея\n",
      "Correct token: электрокнигу, predicted token: электромагнитного\n",
      "Correct token: как, predicted token: кана\n",
      "Correct token: хочется, predicted token: хец\n",
      "Correct token: репбазы, predicted token: пер\n",
      "Correct token: которые, predicted token: базы\n",
      "Correct token: оказались, predicted token: которые\n",
      "Correct token: крайне, predicted token: оказались\n",
      "Correct token: близкими, predicted token: крайне\n",
      "Correct token: друзьями, predicted token: близкими\n",
      "Correct token: нежданным, predicted token: друзьями\n",
      "Correct token: в, predicted token: неожиданным\n",
      "Correct token: рок-н-ролла, predicted token: лорена\n",
      "Correct token: кстати, predicted token: остатке\n",
      "Correct token: любовь, predicted token: бюффон\n",
      "Correct token: что, predicted token: че\n",
      "Correct token: это, predicted token: ето\n",
      "Correct token: тоже, predicted token: тэо\n",
      "Correct token: реагируют, predicted token: реагирует\n",
      "Correct token: захотела, predicted token: отъехала\n",
      "Correct token: очень, predicted token: очное\n",
      "Correct token: еще, predicted token: шишко\n",
      "Correct token: это, predicted token: ето\n",
      "Correct token: следующий, predicted token: слушаю\n",
      "Correct token: вообще, predicted token: ваще\n",
      "Correct token: черт-те, predicted token: черти\n",
      "Correct token: спасибо, predicted token: саааа\n",
      "Correct token: насчет, predicted token: нищета\n",
      "Correct token: естественно, predicted token: стрессе\n",
      "Correct token: сворачиваю, predicted token: сворачивал\n",
      "Correct token: обещают, predicted token: башню\n",
      "Correct token: товарищ, predicted token: ворчит\n",
      "Correct token: определяешься, predicted token: определяется\n",
      "Correct token: сообщите, predicted token: сообщаете\n",
      "Correct token: как-то, predicted token: каток\n",
      "Correct token: наберешься, predicted token: оберешься\n",
      "Correct token: ничего, predicted token: ничто\n",
      "Correct token: товарищ, predicted token: ворчит\n",
      "Correct token: расставаньям, predicted token: сравнять\n",
      "Correct token: спускаюсь, predicted token: спасусь\n",
      "Correct token: товарищ, predicted token: ворчит\n",
      "Correct token: что, predicted token: че\n",
      "Correct token: тысяч, predicted token: штык\n",
      "Correct token: давно, predicted token: анодов\n",
      "Correct token: посмотрели, predicted token: писарем\n",
      "Correct token: конечно, predicted token: кромешно\n",
      "Correct token: завтра, predicted token: фраз\n",
      "Correct token: рецепт, predicted token: телец\n",
      "Correct token: отечественные, predicted token: отечественное\n",
      "Correct token: и, predicted token: ии\n",
      "Correct token: он, predicted token: устало\n",
      "Correct token: устал, predicted token: после\n",
      "Correct token: после, predicted token: работы\n",
      "Correct token: работы, predicted token: случается\n",
      "Correct token: случается, predicted token: что\n",
      "Correct token: что, predicted token: его\n",
      "Correct token: его, predicted token: обижали\n",
      "Correct token: обижали, predicted token: большие\n",
      "Correct token: большие, predicted token: мальчишки\n",
      "Correct token: мальчишки, predicted token: суровом\n",
      "Correct token: в, predicted token: бизнесе\n",
      "Correct token: суровом, predicted token: и\n",
      "Correct token: бизнесе, predicted token: ругали\n",
      "Correct token: и, predicted token: злой\n",
      "Correct token: ругал, predicted token: в\n",
      "Correct token: злой, predicted token: скандальчик\n",
      "Correct token: дядька-начальник, predicted token: в\n",
      "Correct token: химиотерапии, predicted token: империи\n",
      "Correct token: красиво, predicted token: криво\n",
      "Correct token: вообще, predicted token: ваще\n",
      "Correct token: оказывается, predicted token: казанцев\n",
      "Correct token: посочувствовали, predicted token: посочувствовал\n",
      "Correct token: ссылка, predicted token: цска\n",
      "Correct token: поспишь, predicted token: поспоришь\n",
      "Correct token: объясняла, predicted token: объяснила\n",
      "Correct token: начальнице, predicted token: начальница\n",
      "Correct token: здесь, predicted token: днесь\n",
      "Correct token: энергия, predicted token: синергия\n",
      "Correct token: из-за, predicted token: из\n",
      "Correct token: как-то, predicted token: каток\n",
      "Correct token: придется, predicted token: предаться\n",
      "Correct token: завтра, predicted token: фраз\n",
      "Correct token: стесняюсь, predicted token: ясность\n",
      "Correct token: остается, predicted token: стаццема\n",
      "Correct token: смириться, predicted token: мориц\n",
      "Correct token: бороться, predicted token: борцов\n",
      "Correct token: что, predicted token: шт\n",
      "Correct token: рaда, predicted token: даааа\n",
      "Correct token: обрызгивается, predicted token: разбивается\n",
      "Correct token: развиться, predicted token: разница\n",
      "Correct token: кстати, predicted token: остатке\n",
      "Correct token: мужчина, predicted token: ущи\n",
      "Correct token: постарайтесь, predicted token: старайтесь\n",
      "Correct token: аборигенку, predicted token: букинге\n",
      "Correct token: приезжей, predicted token: проезжей\n",
      "Correct token: насчет, predicted token: нищета\n",
      "Correct token: много, predicted token: ногам\n",
      "Correct token: поешьте, predicted token: потише\n",
      "Correct token: насчет, predicted token: нищета\n",
      "Correct token: помощник, predicted token: посошком\n",
      "Correct token: сегодняшний, predicted token: сегодняшней\n",
      "Correct token: не, predicted token: ни\n",
      "Correct token: потрясающая, predicted token: потрясающие\n",
      "Correct token: преподавательница, predicted token: предводительница\n",
      "Correct token: кошка, predicted token: шашки\n",
      "Correct token: мягче, predicted token: мишеля\n",
      "Correct token: объективно, predicted token: обновить\n",
      "Correct token: кто-то, predicted token: токто\n",
      "Correct token: кто-то, predicted token: токто\n",
      "Correct token: кто-то, predicted token: токто\n",
      "Correct token: сегодня, predicted token: сиднея\n",
      "Correct token: контакте, predicted token: контакт\n",
      "Correct token: никуда, predicted token: некуда\n",
      "Correct token: ответьте, predicted token: ответить\n",
      "Correct token: какие-то, predicted token: какие\n",
      "Correct token: плотники, predicted token: то\n",
      "Correct token: объясняя, predicted token: плотник\n",
      "Correct token: экзаменатору, predicted token: объясняя\n",
      "Correct token: что, predicted token: экзамена\n",
      "Correct token: связались, predicted token: что\n",
      "Correct token: с, predicted token: связалась\n",
      "Correct token: ней, predicted token: с\n",
      "Correct token: через, predicted token: ней\n",
      "Correct token: емайл, predicted token: через\n",
      "Correct token: говорилось, predicted token: немалой\n",
      "Correct token: о, predicted token: говорилось\n",
      "Correct token: заборе, predicted token: о\n",
      "Correct token: который, predicted token: заборе\n",
      "Correct token: не, predicted token: который\n",
      "Correct token: закрывается, predicted token: не\n",
      "Correct token: затем, predicted token: закрывается\n",
      "Correct token: зашла, predicted token: затем\n",
      "Correct token: не, predicted token: зашла\n",
      "Correct token: следующая, predicted token: слушаю\n",
      "Correct token: ничего, predicted token: ничто\n",
      "Correct token: его, predicted token: иво\n",
      "Correct token: совпали, predicted token: провисали\n",
      "Correct token: заботились, predicted token: озаботились\n",
      "Correct token: когда-то, predicted token: когда\n",
      "Correct token: вставлял, predicted token: вставляли\n",
      "Correct token: позаботьтесь, predicted token: позаботься\n",
      "Correct token: пофотографировав, predicted token: фотографировал\n",
      "Correct token: естественно, predicted token: сено\n",
      "Correct token: вообще, predicted token: ваще\n",
      "Correct token: постебался, predicted token: тобиаса\n",
      "Correct token: сногсшибательной, predicted token: сногсшибательным\n",
      "Correct token: это, predicted token: эта\n",
      "Correct token: когда-то, predicted token: когда\n",
      "Correct token: совершенно, predicted token: свершенно\n",
      "Correct token: непредвиденные, predicted token: непредвиденных\n",
      "Correct token: говорю, predicted token: югре\n",
      "Correct token: ничего, predicted token: ничто\n",
      "Correct token: когда, predicted token: погода\n",
      "Correct token: как-то, predicted token: каток\n",
      "Correct token: хотеться, predicted token: отец\n",
      "Correct token: нравится, predicted token: ницца\n",
      "Correct token: как, predicted token: какао\n",
      "Correct token: как, predicted token: кана\n",
      "Correct token: поверхностное, predicted token: поверхностно\n",
      "Correct token: неискреннее, predicted token: неискренние\n",
      "Correct token: вот, predicted token: ооо\n",
      "Correct token: понаобещал, predicted token: пообещал\n",
      "Correct token: кстати, predicted token: остатке\n",
      "Correct token: неуравновешенно, predicted token: уравновешенное\n",
      "Correct token: очень, predicted token: чен\n",
      "Correct token: сильно, predicted token: вольно\n",
      "Correct token: влево, predicted token: ввела\n",
      "Correct token: покажи, predicted token: пожитки\n",
      "Correct token: пожинаем, predicted token: поражением\n",
      "Correct token: девчонками, predicted token: девочками\n",
      "Correct token: придется, predicted token: предаться\n",
      "Correct token: здесь, predicted token: днесь\n",
      "Correct token: собственно, predicted token: снбо\n",
      "Correct token: как-то, predicted token: катке\n",
      "Correct token: изюминку, predicted token: зинку\n",
      "Correct token: опять, predicted token: пять\n",
      "Correct token: мне, predicted token: мной\n",
      "Correct token: свои, predicted token: васи\n",
      "Correct token: чтоб, predicted token: бишоп\n",
      "Correct token: ничего, predicted token: ничто\n",
      "Correct token: совладав, predicted token: валдас\n",
      "Correct token: жизнь, predicted token: жизни\n",
      "Correct token: неожиданно, predicted token: неожиданного\n",
      "Correct token: собственно, predicted token: босс\n"
     ]
    }
   ],
   "source": [
    "for token_true, token_pred in zip(y_true, y_pred):\n",
    "    if token_true != token_pred:\n",
    "        print(f'Correct token: {token_true}, predicted token: {token_pred}')"
   ]
  },
  {
   "cell_type": "markdown",
   "metadata": {},
   "source": [
    "В рассмотренных методах при выборе исправления никак не использовался контекст. Про то как это можно сделать, можно почитать вот тут - https://habr.com/ru/post/346618/"
   ]
  }
 ],
 "metadata": {
  "anaconda-cloud": {},
  "kernelspec": {
   "display_name": "Python 3",
   "language": "python",
   "name": "python3"
  }
 },
 "nbformat": 4,
 "nbformat_minor": 1
}
